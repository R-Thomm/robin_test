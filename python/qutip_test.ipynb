{
 "cells": [
  {
   "cell_type": "code",
   "execution_count": 6,
   "metadata": {},
   "outputs": [],
   "source": [
    "# !pip install qutip"
   ]
  },
  {
   "cell_type": "code",
   "execution_count": 1,
   "metadata": {},
   "outputs": [],
   "source": [
    "import matplotlib.pyplot as plt\n",
    "import numpy as np\n",
    "import qutip\n",
    "from qutip import *\n",
    "\n",
    "# good overview:\n",
    "# https://nbviewer.jupyter.org/github/jrjohansson/qutip-lectures/blob/master/Lecture-0-Introduction-to-QuTiP.ipynb"
   ]
  },
  {
   "cell_type": "code",
   "execution_count": 2,
   "metadata": {},
   "outputs": [
    {
     "name": "stdout",
     "output_type": "stream",
     "text": [
      "Quantum object: dims = [[2], [1]], shape = (2, 1), type = ket\n",
      "Qobj data =\n",
      "[[1.]\n",
      " [0.]] \n",
      "\n",
      "[[2], [1]]\n",
      "(2, 1)\n",
      "ket\n"
     ]
    }
   ],
   "source": [
    "# signele qobject, like a state or ket\n",
    "q = Qobj([[1], [0]])\n",
    "\n",
    "print(q,'\\n')\n",
    "\n",
    "print(q.dims)\n",
    "print(q.shape)\n",
    "print(q.type)"
   ]
  },
  {
   "cell_type": "code",
   "execution_count": 3,
   "metadata": {},
   "outputs": [
    {
     "name": "stdout",
     "output_type": "stream",
     "text": [
      "[[0.+0.j 0.-1.j]\n",
      " [0.+1.j 0.+0.j]]\n",
      "[[0. 1.]\n",
      " [1. 0.]]\n",
      "\n",
      " Qubit Hamiltonian =\n"
     ]
    },
    {
     "data": {
      "text/latex": [
       "Quantum object: dims = [[2], [2]], shape = (2, 2), type = oper, isherm = True\\begin{equation*}\\left(\\begin{array}{*{11}c}1.0 & -0.200j\\\\0.200j & -1.0\\\\\\end{array}\\right)\\end{equation*}"
      ],
      "text/plain": [
       "Quantum object: dims = [[2], [2]], shape = (2, 2), type = oper, isherm = True\n",
       "Qobj data =\n",
       "[[ 1.+0.j   0.-0.2j]\n",
       " [ 0.+0.2j -1.+0.j ]]"
      ]
     },
     "execution_count": 3,
     "metadata": {},
     "output_type": "execute_result"
    }
   ],
   "source": [
    "# operators\n",
    "sx = Qobj([[0,1],[1,0]])\n",
    "sy = Qobj([[0,-1j], [1j,0]])\n",
    "sz = Qobj([[1,0], [0,-1]])\n",
    "\n",
    "nh = Qobj([[2,1j], [0,-1]])\n",
    "\n",
    "print(sy.full())\n",
    "print(abs(sy.full()))\n",
    "\n",
    "H = 1*sz + 0.2*sy\n",
    "print(\"\\n Qubit Hamiltonian =\")\n",
    "H"
   ]
  },
  {
   "cell_type": "code",
   "execution_count": 4,
   "metadata": {},
   "outputs": [
    {
     "name": "stdout",
     "output_type": "stream",
     "text": [
      "[[ 2.+0.j  0.+1.j]\n",
      " [ 0.+0.j -1.+0.j]] \n",
      " \n",
      "hermitian conjugate:\n",
      " [[ 2.+0.j  0.+0.j]\n",
      " [ 0.-1.j -1.+0.j]] \n",
      "\n",
      "trace H =  0.0 , trace nh =  1.0 \n",
      "\n",
      "(array([-1.0198039,  1.0198039]), array([Quantum object: dims = [[2], [1]], shape = (2, 1), type = ket\n",
      "Qobj data =\n",
      "[[-0.09853762+0.j        ]\n",
      " [ 0.        +0.99513333j]],\n",
      "       Quantum object: dims = [[2], [1]], shape = (2, 1), type = ket\n",
      "Qobj data =\n",
      "[[-0.99513333+0.j        ]\n",
      " [ 0.        -0.09853762j]]], dtype=object))\n",
      "\n",
      "first eigenenergy:  -1.019803902718557 \n",
      "\n",
      "corresponding eigenstate:\n",
      " [[-0.09853762+0.j        ]\n",
      " [ 0.        +0.99513333j]] \n",
      "\n",
      "True\n"
     ]
    },
    {
     "data": {
      "text/latex": [
       "Quantum object: dims = [[2], [1]], shape = (2, 1), type = ket\\begin{equation*}\\left(\\begin{array}{*{11}c}0.100\\\\-1.015j\\\\\\end{array}\\right)\\end{equation*}"
      ],
      "text/plain": [
       "Quantum object: dims = [[2], [1]], shape = (2, 1), type = ket\n",
       "Qobj data =\n",
       "[[0.10048905+0.j        ]\n",
       " [0.        -1.01484085j]]"
      ]
     },
     "execution_count": 4,
     "metadata": {},
     "output_type": "execute_result"
    }
   ],
   "source": [
    "# hermitian conjugate\n",
    "print(nh.full(),\"\\n \\nhermitian conjugate:\\n\",nh.dag().full(),\"\\n\")\n",
    "\n",
    "# trace\n",
    "print(\"trace H = \",H.tr(),\", trace nh = \", nh.tr(),\"\\n\")\n",
    "\n",
    "# eigenstates and eigenenergies\n",
    "eigensys = H.eigenstates()\n",
    "print(eigensys)\n",
    "eigenE1 = eigensys[0][0]\n",
    "eigenS1 = eigensys[1][0]\n",
    "print(\"\\nfirst eigenenergy: \",eigenE1,\"\\n\")\n",
    "print(\"corresponding eigenstate:\\n\",eigenS1.full(),\"\\n\")\n",
    "\n",
    "print(H*eigenS1 == eigenE1*eigenS1)\n",
    "H*eigenS1"
   ]
  },
  {
   "cell_type": "code",
   "execution_count": 5,
   "metadata": {},
   "outputs": [
    {
     "name": "stdout",
     "output_type": "stream",
     "text": [
      "True\n"
     ]
    },
    {
     "data": {
      "text/latex": [
       "Quantum object: dims = [[2], [1]], shape = (2, 1), type = ket\\begin{equation*}\\left(\\begin{array}{*{11}c}0.100\\\\-1.015j\\\\\\end{array}\\right)\\end{equation*}"
      ],
      "text/plain": [
       "Quantum object: dims = [[2], [1]], shape = (2, 1), type = ket\n",
       "Qobj data =\n",
       "[[0.10048905+0.j        ]\n",
       " [0.        -1.01484085j]]"
      ]
     },
     "execution_count": 5,
     "metadata": {},
     "output_type": "execute_result"
    }
   ],
   "source": [
    "print(H*eigenS1 == eigenE1*eigenS1)\n",
    "H*eigenS1"
   ]
  },
  {
   "cell_type": "code",
   "execution_count": 6,
   "metadata": {},
   "outputs": [
    {
     "data": {
      "text/latex": [
       "Quantum object: dims = [[5], [1]], shape = (5, 1), type = ket\\begin{equation*}\\left(\\begin{array}{*{11}c}1.0\\\\0.0\\\\0.0\\\\0.0\\\\0.0\\\\\\end{array}\\right)\\end{equation*}"
      ],
      "text/plain": [
       "Quantum object: dims = [[5], [1]], shape = (5, 1), type = ket\n",
       "Qobj data =\n",
       "[[1.]\n",
       " [0.]\n",
       " [0.]\n",
       " [0.]\n",
       " [0.]]"
      ]
     },
     "execution_count": 6,
     "metadata": {},
     "output_type": "execute_result"
    }
   ],
   "source": [
    "# Fock state (first number of states, second occupied state)\n",
    "fock(5,0)"
   ]
  },
  {
   "cell_type": "code",
   "execution_count": 7,
   "metadata": {},
   "outputs": [
    {
     "name": "stdout",
     "output_type": "stream",
     "text": [
      "[0.42955736 0.55842457 0.51332551 0.38527944 0.25043018 0.14560217\n",
      " 0.07723982 0.03808713 0.01704575 0.00875827]\n"
     ]
    },
    {
     "data": {
      "image/png": "[encoded data removed]",
      "text/plain": [
       "<Figure size 432x288 with 1 Axes>"
      ]
     },
     "metadata": {
      "needs_background": "light"
     },
     "output_type": "display_data"
    },
    {
     "data": {
      "text/latex": [
       "Quantum object: dims = [[10], [1]], shape = (10, 1), type = ket\\begin{equation*}\\left(\\begin{array}{*{11}c}0.430\\\\0.558\\\\0.513\\\\0.385\\\\0.250\\\\0.146\\\\0.077\\\\0.038\\\\0.017\\\\0.009\\\\\\end{array}\\right)\\end{equation*}"
      ],
      "text/plain": [
       "Quantum object: dims = [[10], [1]], shape = (10, 1), type = ket\n",
       "Qobj data =\n",
       "[[0.42955736]\n",
       " [0.55842457]\n",
       " [0.51332551]\n",
       " [0.38527944]\n",
       " [0.25043018]\n",
       " [0.14560217]\n",
       " [0.07723982]\n",
       " [0.03808713]\n",
       " [0.01704575]\n",
       " [0.00875827]]"
      ]
     },
     "execution_count": 7,
     "metadata": {},
     "output_type": "execute_result"
    }
   ],
   "source": [
    "# coherent state\n",
    "coh = coherent(10,1.3)\n",
    "\n",
    "cohP = abs(coh.dag().full())[0]\n",
    "print(cohP)\n",
    "plt.bar(np.arange(0,10),cohP)\n",
    "plt.show()\n",
    "\n",
    "coh"
   ]
  },
  {
   "cell_type": "code",
   "execution_count": 79,
   "metadata": {},
   "outputs": [
    {
     "data": {
      "text/latex": [
       "Quantum object: dims = [[10], [10]], shape = (10, 10), type = oper, isherm = True\\begin{equation*}\\left(\\begin{array}{*{11}c}0.018 & 0.037 & 0.052 & 0.060 & 0.060 & 0.054 & 0.043 & 0.035 & 0.020 & 0.022\\\\0.037 & 0.073 & 0.104 & 0.120 & 0.119 & 0.108 & 0.086 & 0.069 & 0.040 & 0.043\\\\0.052 & 0.104 & 0.147 & 0.169 & 0.169 & 0.152 & 0.122 & 0.098 & 0.057 & 0.061\\\\0.060 & 0.120 & 0.169 & 0.196 & 0.195 & 0.176 & 0.141 & 0.113 & 0.066 & 0.070\\\\0.060 & 0.119 & 0.169 & 0.195 & 0.195 & 0.175 & 0.140 & 0.113 & 0.065 & 0.070\\\\0.054 & 0.108 & 0.152 & 0.176 & 0.175 & 0.158 & 0.126 & 0.102 & 0.059 & 0.063\\\\0.043 & 0.086 & 0.122 & 0.141 & 0.140 & 0.126 & 0.101 & 0.081 & 0.047 & 0.051\\\\0.035 & 0.069 & 0.098 & 0.113 & 0.113 & 0.102 & 0.081 & 0.065 & 0.038 & 0.041\\\\0.020 & 0.040 & 0.057 & 0.066 & 0.065 & 0.059 & 0.047 & 0.038 & 0.022 & 0.024\\\\0.022 & 0.043 & 0.061 & 0.070 & 0.070 & 0.063 & 0.051 & 0.041 & 0.024 & 0.025\\\\\\end{array}\\right)\\end{equation*}"
      ],
      "text/plain": [
       "Quantum object: dims = [[10], [10]], shape = (10, 10), type = oper, isherm = True\n",
       "Qobj data =\n",
       "[[0.01831548 0.03663185 0.0517998  0.05983893 0.05974045 0.05375093\n",
       "  0.04301123 0.03461188 0.02006737 0.02157499]\n",
       " [0.03663185 0.07326548 0.10360213 0.11968078 0.11948382 0.10750448\n",
       "  0.08602455 0.06922546 0.04013571 0.04315104]\n",
       " [0.0517998  0.10360213 0.1465001  0.16923635 0.16895784 0.15201828\n",
       "  0.12164428 0.09788927 0.05675449 0.06101836]\n",
       " [0.05983893 0.11968078 0.16923635 0.19550118 0.19517944 0.17561093\n",
       "  0.140523   0.1130813  0.06556257 0.07048817]\n",
       " [0.05974045 0.11948382 0.16895784 0.19517944 0.19485824 0.17532193\n",
       "  0.14029174 0.11289521 0.06545467 0.07037217]\n",
       " [0.05375093 0.10750448 0.15201828 0.17561093 0.17532193 0.15774431\n",
       "  0.12622622 0.10157644 0.05889225 0.06331672]\n",
       " [0.04301123 0.08602455 0.12164428 0.140523   0.14029174 0.12622622\n",
       "  0.1010056  0.08128096 0.04712529 0.05066573]\n",
       " [0.03461188 0.06922546 0.09788927 0.1130813  0.11289521 0.10157644\n",
       "  0.08128096 0.06540821 0.03792254 0.04077159]\n",
       " [0.02006737 0.04013571 0.05675449 0.06556257 0.06545467 0.05889225\n",
       "  0.04712529 0.03792254 0.02198683 0.02363866]\n",
       " [0.02157499 0.04315104 0.06101836 0.07048817 0.07037217 0.06331672\n",
       "  0.05066573 0.04077159 0.02363866 0.02541459]]"
      ]
     },
     "execution_count": 79,
     "metadata": {},
     "output_type": "execute_result"
    }
   ],
   "source": [
    "# density matrix of a coherent state\n",
    "coherent_dm(10,2)"
   ]
  },
  {
   "cell_type": "code",
   "execution_count": 138,
   "metadata": {},
   "outputs": [
    {
     "data": {
      "image/png": "[encoded data removed]",
      "text/plain": [
       "<Figure size 432x288 with 1 Axes>"
      ]
     },
     "metadata": {
      "needs_background": "light"
     },
     "output_type": "display_data"
    },
    {
     "data": {
      "image/png": "[encoded data removed]",
      "text/plain": [
       "<Figure size 432x288 with 1 Axes>"
      ]
     },
     "metadata": {
      "needs_background": "light"
     },
     "output_type": "display_data"
    },
    {
     "data": {
      "text/latex": [
       "Quantum object: dims = [[12], [12]], shape = (12, 12), type = oper, isherm = True\\begin{equation*}\\left(\\begin{array}{*{11}c}0.018 & 0.037 & 0.052 & 0.060 & 0.060 & \\cdots & 0.033 & 0.023 & 0.016 & 0.009 & 0.008\\\\0.037 & 0.073 & 0.104 & 0.120 & 0.120 & \\cdots & 0.066 & 0.046 & 0.032 & 0.018 & 0.016\\\\0.052 & 0.104 & 0.147 & 0.169 & 0.169 & \\cdots & 0.094 & 0.066 & 0.045 & 0.025 & 0.022\\\\0.060 & 0.120 & 0.169 & 0.195 & 0.195 & \\cdots & 0.108 & 0.076 & 0.052 & 0.029 & 0.026\\\\0.060 & 0.120 & 0.169 & 0.195 & 0.195 & \\cdots & 0.108 & 0.076 & 0.052 & 0.029 & 0.026\\\\\\vdots & \\vdots & \\vdots & \\vdots & \\vdots & \\ddots & \\vdots & \\vdots & \\vdots & \\vdots & \\vdots\\\\0.033 & 0.066 & 0.094 & 0.108 & 0.108 & \\cdots & 0.060 & 0.042 & 0.029 & 0.016 & 0.014\\\\0.023 & 0.046 & 0.066 & 0.076 & 0.076 & \\cdots & 0.042 & 0.029 & 0.020 & 0.011 & 0.010\\\\0.016 & 0.032 & 0.045 & 0.052 & 0.052 & \\cdots & 0.029 & 0.020 & 0.014 & 0.008 & 0.007\\\\0.009 & 0.018 & 0.025 & 0.029 & 0.029 & \\cdots & 0.016 & 0.011 & 0.008 & 0.004 & 0.004\\\\0.008 & 0.016 & 0.022 & 0.026 & 0.026 & \\cdots & 0.014 & 0.010 & 0.007 & 0.004 & 0.003\\\\\\end{array}\\right)\\end{equation*}"
      ],
      "text/plain": [
       "Quantum object: dims = [[12], [12]], shape = (12, 12), type = oper, isherm = True\n",
       "Qobj data =\n",
       "[[0.01831564 0.03663128 0.05180439 0.05981894 0.0598171  0.05350958\n",
       "  0.04366365 0.03308989 0.02316835 0.01601097 0.00887679 0.00784766]\n",
       " [0.03663128 0.07326258 0.10360881 0.11963791 0.11963424 0.10701918\n",
       "  0.08732732 0.06617981 0.04633672 0.03202195 0.01775358 0.01569533]\n",
       " [0.05180439 0.10360881 0.1465248  0.16919335 0.16918815 0.15134778\n",
       "  0.12349933 0.09359226 0.06552994 0.04528582 0.02510732 0.02219652]\n",
       " [0.05981894 0.11963791 0.16919335 0.19536889 0.19536289 0.17476248\n",
       "  0.14260565 0.10807172 0.07566793 0.05229189 0.02899162 0.02563049]\n",
       " [0.0598171  0.11963424 0.16918815 0.19536289 0.19535689 0.17475711\n",
       "  0.14260127 0.1080684  0.07566561 0.05229028 0.02899073 0.0256297 ]\n",
       " [0.05350958 0.10701918 0.15134778 0.17476248 0.17475711 0.15632951\n",
       "  0.1275644  0.09667292 0.06768691 0.04677643 0.02593374 0.02292713]\n",
       " [0.04366365 0.08732732 0.12349933 0.14260565 0.14260127 0.1275644\n",
       "  0.10409217 0.07888481 0.05523231 0.03816943 0.02116186 0.01870847]\n",
       " [0.03308989 0.06617981 0.09359226 0.10807172 0.1080684  0.09667292\n",
       "  0.07888481 0.05978177 0.04185704 0.02892617 0.01603722 0.01417796]\n",
       " [0.02316835 0.04633672 0.06552994 0.07566793 0.07566561 0.06768691\n",
       "  0.05523231 0.04185704 0.0293068  0.02025307 0.01122869 0.00992689]\n",
       " [0.01601097 0.03202195 0.04528582 0.05229189 0.05229028 0.04677643\n",
       "  0.03816943 0.02892617 0.02025307 0.0139963  0.00775981 0.00686019]\n",
       " [0.00887679 0.01775358 0.02510732 0.02899162 0.02899073 0.02593374\n",
       "  0.02116186 0.01603722 0.01122869 0.00775981 0.00430219 0.00380342]\n",
       " [0.00784766 0.01569533 0.02219652 0.02563049 0.0256297  0.02292713\n",
       "  0.01870847 0.01417796 0.00992689 0.00686019 0.00380342 0.00336247]]"
      ]
     },
     "execution_count": 138,
     "metadata": {},
     "output_type": "execute_result"
    }
   ],
   "source": [
    "# density matrix of a coherent state\n",
    "coh = abs(coherent_dm(12,2).full())\n",
    "plt.imshow(coh, origin = 'lower')\n",
    "plt.show()\n",
    "\n",
    "\n",
    "coh2 = displace(12,2)*fock(12)\n",
    "coh2_dm = coh2*coh2.dag()\n",
    "coh3 = abs(coh2_dm.full())\n",
    "plt.imshow(coh3, origin = 'lower')\n",
    "plt.show()\n",
    "\n",
    "coh2_dm"
   ]
  },
  {
   "cell_type": "code",
   "execution_count": 139,
   "metadata": {},
   "outputs": [
    {
     "data": {
      "image/png": "[encoded data removed]",
      "text/plain": [
       "<Figure size 432x288 with 1 Axes>"
      ]
     },
     "metadata": {
      "needs_background": "light"
     },
     "output_type": "display_data"
    },
    {
     "data": {
      "image/png": "[encoded data removed]",
      "text/plain": [
       "<Figure size 432x288 with 1 Axes>"
      ]
     },
     "metadata": {
      "needs_background": "light"
     },
     "output_type": "display_data"
    }
   ],
   "source": [
    "# squeezed vacuum\n",
    "n = 16\n",
    "vac = fock(n)\n",
    "sq = squeeze(n,1)\n",
    "\n",
    "# create squeezed vacuum\n",
    "sVac = sq*vac\n",
    "sVacP = abs(sVac.dag().full())[0]\n",
    "plt.bar(np.arange(0,n),sVacP)\n",
    "plt.show()\n",
    "\n",
    "sVac_dm = sVac*sVac.dag()\n",
    "sVac_dm_p = abs(sVac_dm.full())\n",
    "plt.imshow(sVac_dm_p, origin = 'lower')\n",
    "plt.show()"
   ]
  },
  {
   "cell_type": "code",
   "execution_count": null,
   "metadata": {},
   "outputs": [],
   "source": [
    "# exponential, here calculate sig_x exp(i w t)\n",
    "omega = 1.0\n",
    "es1 = eseries(sigmax(), 1j * omega)"
   ]
  },
  {
   "cell_type": "code",
   "execution_count": null,
   "metadata": {},
   "outputs": [],
   "source": []
  },
  {
   "cell_type": "code",
   "execution_count": null,
   "metadata": {},
   "outputs": [],
   "source": []
  },
  {
   "cell_type": "code",
   "execution_count": null,
   "metadata": {},
   "outputs": [],
   "source": []
  },
  {
   "cell_type": "code",
   "execution_count": 69,
   "metadata": {},
   "outputs": [
    {
     "ename": "NameError",
     "evalue": "name 'velocityMap' is not defined",
     "output_type": "error",
     "traceback": [
      "\u001b[1;31m---------------------------------------------------------------------------\u001b[0m",
      "\u001b[1;31mNameError\u001b[0m                                 Traceback (most recent call last)",
      "\u001b[1;32m<ipython-input-69-333da929c919>\u001b[0m in \u001b[0;36m<module>\u001b[1;34m\u001b[0m\n\u001b[1;32m----> 1\u001b[1;33m \u001b[0mpl\u001b[0m \u001b[1;33m=\u001b[0m \u001b[0mplt\u001b[0m\u001b[1;33m.\u001b[0m\u001b[0mimshow\u001b[0m\u001b[1;33m(\u001b[0m\u001b[0mvelocityMap\u001b[0m\u001b[1;33m,\u001b[0m \u001b[0mcmap\u001b[0m\u001b[1;33m=\u001b[0m\u001b[1;34m'hot'\u001b[0m\u001b[1;33m,\u001b[0m \u001b[0morigin\u001b[0m \u001b[1;33m=\u001b[0m \u001b[1;34m'lower'\u001b[0m\u001b[1;33m,\u001b[0m \u001b[0mextent\u001b[0m \u001b[1;33m=\u001b[0m \u001b[1;33m(\u001b[0m\u001b[1;36m0\u001b[0m\u001b[1;33m,\u001b[0m \u001b[1;36m1\u001b[0m\u001b[1;33m,\u001b[0m \u001b[1;36m0\u001b[0m\u001b[1;33m,\u001b[0m \u001b[1;36m1\u001b[0m\u001b[1;33m)\u001b[0m\u001b[1;33m)\u001b[0m\u001b[1;33m\u001b[0m\u001b[1;33m\u001b[0m\u001b[0m\n\u001b[0m",
      "\u001b[1;31mNameError\u001b[0m: name 'velocityMap' is not defined"
     ]
    }
   ],
   "source": [
    "pl = plt.imshow(velocityMap, cmap='hot', origin = 'lower', extent = (0, 1, 0, 1))"
   ]
  }
 ],
 "metadata": {
  "kernelspec": {
   "display_name": "Python 3",
   "language": "python",
   "name": "python3"
  },
  "language_info": {
   "codemirror_mode": {
    "name": "ipython",
    "version": 3
   },
   "file_extension": ".py",
   "mimetype": "text/x-python",
   "name": "python",
   "nbconvert_exporter": "python",
   "pygments_lexer": "ipython3",
   "version": "3.7.3"
  }
 },
 "nbformat": 4,
 "nbformat_minor": 2
}
