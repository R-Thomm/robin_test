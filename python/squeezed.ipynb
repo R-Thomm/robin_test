{
 "cells": [
  {
   "cell_type": "code",
   "execution_count": 14,
   "metadata": {},
   "outputs": [],
   "source": [
    "import matplotlib.pyplot as plt\n",
    "import numpy as np\n",
    "import qutip\n",
    "\n",
    "from qutip import *"
   ]
  },
  {
   "cell_type": "code",
   "execution_count": 15,
   "metadata": {},
   "outputs": [],
   "source": [
    "# number of levels calculated\n",
    "n = 10\n",
    "\n",
    "# definition of the frequency modulation (and its time derivative)\n",
    "def w(t, w0, dwQ, dtQ, dwP, dtP, delay):\n",
    "    freq = w0\n",
    "    freq += dwQ/(np.sqrt(2*np.pi)*dtQ)*np.exp(-0.5*(t/dtQ)**2)\n",
    "    freq += dwP*np.sin(2*w0*(t-delay))*np.heaviside(t-delay,1)*np.heaviside(dtP-(t-delay),1)\n",
    "    return(freq)\n",
    "\n",
    "def wdot(t, w0, dwQ, dtQ, dwP, dtP, delay):\n",
    "    freqD = - dwQ/(np.sqrt(2*np.pi)*dtQ)*np.exp(-0.5*(t/dtQ)**2) * t/(dtQ**2)\n",
    "    freqD += 2*w0*dwP*np.cos(2*w0*t)*np.heaviside(t-delay,1)*np.heaviside(dtP-(t-delay),1)\n",
    "    return(freqD)"
   ]
  },
  {
   "cell_type": "code",
   "execution_count": 16,
   "metadata": {},
   "outputs": [
    {
     "data": {
      "text/plain": [
       "<matplotlib.legend.Legend at 0x58577f0>"
      ]
     },
     "execution_count": 16,
     "metadata": {},
     "output_type": "execute_result"
    },
    {
     "data": {
      "image/png": "[encoded data removed]",
      "text/plain": [
       "<Figure size 432x288 with 1 Axes>"
      ]
     },
     "metadata": {
      "needs_background": "light"
     },
     "output_type": "display_data"
    }
   ],
   "source": [
    "# plot different frequency modulations\n",
    "tlist = np.linspace(-2,8,100)\n",
    "wQuench = w(tlist, w0=1, dwQ=1, dtQ=0.5, dwP=0, dtP=0, delay=0)\n",
    "wQuenchD = wdot(tlist, w0=1, dwQ=1, dtQ=0.5, dwP=0, dtP=0, delay=0)\n",
    "wParam = w(tlist, w0=1, dwQ=0, dtQ=0.1, dwP=0.5, dtP=4*np.pi/2, delay=0)\n",
    "wBoth = w(tlist, w0=1, dwQ=1, dtQ=0.5, dwP=0.5, dtP=4*np.pi/2, delay=1)\n",
    "\n",
    "plt.plot(tlist, wQuench, label=\"quench\")\n",
    "# plt.plot(tlist, wQuenchD, label=\"quench diff\")\n",
    "plt.plot(tlist, wParam, label=\"parametric\")\n",
    "plt.plot(tlist, wBoth,\":\", label=\"first quench, then parametric\")\n",
    "plt.legend()"
   ]
  },
  {
   "cell_type": "code",
   "execution_count": 18,
   "metadata": {},
   "outputs": [],
   "source": [
    "# defining the initial state and the hamiltonian\n",
    "psi0 = fock(n,0)\n",
    "\n",
    "def H(t, args):\n",
    "    w0 = args['w0']\n",
    "    dwQ = args['dwQ']\n",
    "    dtQ = args['dtQ']\n",
    "    dwP = args['dwP']\n",
    "    dtP = args['dtP']\n",
    "    delay = args['delay']\n",
    "    n = args['n']\n",
    "    ad = create(n)\n",
    "    a = destroy(n)\n",
    "    ham = w(t, w0, dwQ, dtQ, dwP, dtP, delay)*(ad*a+0.5*qeye(n))\n",
    "    ham += 1j/4*wdot(t, w0, dwQ, dtQ, dwP, dtP, delay)/w(t, w0, dwQ, dtQ, dwP, dtP, delay)*(a*a-ad*ad)\n",
    "    return(ham)"
   ]
  },
  {
   "cell_type": "code",
   "execution_count": 24,
   "metadata": {},
   "outputs": [],
   "source": [
    "argsQ = {'w0': 1,\n",
    "       'dwQ': 1,\n",
    "       'dtQ': 0.5,\n",
    "       'dwP': 0,\n",
    "       'dtP': 0,\n",
    "       'delay': 0,\n",
    "       'n': n}\n",
    "\n",
    "argsP = {'w0': 1,\n",
    "       'dwQ': 0,\n",
    "       'dtQ': 0.1,\n",
    "       'dwP': 0.5,\n",
    "       'dtP': 4*np.pi/2,\n",
    "       'delay': 0,\n",
    "       'n': n}\n",
    "\n",
    "argsQP = {'w0': 1,\n",
    "       'dwQ': 1,\n",
    "       'dtQ': 0.5,\n",
    "       'dwP': 0.5,\n",
    "       'dtP': 4*np.pi/2,\n",
    "       'delay': 1,\n",
    "       'n': n}"
   ]
  },
  {
   "cell_type": "code",
   "execution_count": null,
   "metadata": {},
   "outputs": [],
   "source": [
    "timesQ = np.linspace(-3,3,100)\n",
    "resultQ = mesolve(H, psi0, timesQ, args=argsQ)\n",
    "\n",
    "timesP = np.linspace(-1,7,100)\n",
    "resultP = mesolve(H, psi0, timesP, args=argsP)\n",
    "\n",
    "timesQP = np.linspace(-2,8,200)\n",
    "resultQP = mesolve(H, psi0, timesQP, args=argsQP)"
   ]
  },
  {
   "cell_type": "code",
   "execution_count": null,
   "metadata": {},
   "outputs": [],
   "source": [
    "psi = resultP.states[-1]\n",
    "\n",
    "# print the occupation of the different fock states\n",
    "# and yes, it is a squeezed state!!!\n",
    "\n",
    "psiP = abs(psi.dag().full())[0]\n",
    "plt.bar(np.arange(0,n),psiP)\n",
    "plt.show()"
   ]
  },
  {
   "cell_type": "code",
   "execution_count": null,
   "metadata": {},
   "outputs": [],
   "source": [
    "# here comes the phase space plot\n",
    "# dimensionless position and momentum operators\n",
    "ad = create(n)\n",
    "a = destroy(n)\n",
    "x = 1/np.sqrt(2)*()"
   ]
  }
 ],
 "metadata": {
  "kernelspec": {
   "display_name": "Python 3",
   "language": "python",
   "name": "python3"
  },
  "language_info": {
   "codemirror_mode": {
    "name": "ipython",
    "version": 3
   },
   "file_extension": ".py",
   "mimetype": "text/x-python",
   "name": "python",
   "nbconvert_exporter": "python",
   "pygments_lexer": "ipython3",
   "version": "3.7.3"
  }
 },
 "nbformat": 4,
 "nbformat_minor": 2
}
